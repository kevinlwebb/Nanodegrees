{
 "cells": [
  {
   "cell_type": "markdown",
   "metadata": {},
   "source": [
    "# Introduction To Software Engineering\n",
    "Although the language used throughout these videos is aimed primarily at data scientists, know these skills and their applications are relevant for many professions in software. Potential careers include, but are not limited to:\n",
    "\n",
    "- Data Scientists\n",
    "- Software Engineers\n",
    "- Machine Learning Engineers\n",
    "- Quality Software Engineers\n",
    "- Database Administrators"
   ]
  },
  {
   "cell_type": "markdown",
   "metadata": {},
   "source": [
    "## How this Course is Organized\n",
    "- Software Engineering Practices Part 1 covers how to write well documented, modularized code.\n",
    "- Software Engineering Practices Part 2 discusses testing your code and logging.\n",
    "- Introduction to Object-Oriented Programming gives you an overview of this programming style and prepares you to write your own Python package.\n",
    "- Introduction to Web Development covers building a web application data dashboard.\n",
    "\n",
    "## Course Portfolio Exercises\n",
    "The software engineering course has two portfolio exercises: building a Python package and developing a web data dashboard. These exercises are **NOT** reviewed and are **NOT** required to graduate from the data scientist nanodegree program. In other words, you will not submit either of the portfolio projects to the Udacity review system. Instead, you can use these projects to practice your software engineering skills and then add the projects to your professional portfolio.\n",
    "\n",
    "Having said that, the skills covered in this course will set you up for success in other Udacity courses with required projects. For example, the data engineering for data scientists course has a required project where you are expected to write clean, concise and well-documented code. You will also have an easier time with that project if you understand the fundamentals of object-oriented programming and a basic understanding of how the backend and frontend of a website works."
   ]
  }
 ],
 "metadata": {
  "kernelspec": {
   "display_name": "Python 3",
   "language": "python",
   "name": "python3"
  },
  "language_info": {
   "codemirror_mode": {
    "name": "ipython",
    "version": 3
   },
   "file_extension": ".py",
   "mimetype": "text/x-python",
   "name": "python",
   "nbconvert_exporter": "python",
   "pygments_lexer": "ipython3",
   "version": "3.7.6"
  }
 },
 "nbformat": 4,
 "nbformat_minor": 4
}
