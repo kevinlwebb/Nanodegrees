{
 "cells": [
  {
   "cell_type": "markdown",
   "metadata": {},
   "source": [
    "# 1. Intro to Experiment Design and Recommendation Engines"
   ]
  },
  {
   "cell_type": "markdown",
   "metadata": {},
   "source": [
    "# 2. Course Syllabus"
   ]
  },
  {
   "cell_type": "markdown",
   "metadata": {},
   "source": [
    "## Experimental Design & Recommendation Engines\n",
    "The upcoming course is comprised of two broad topics: **experimental design** and **recommendation engines**.\n",
    "\n",
    "## Experimental Design\n",
    "Within the **experimental design** portion of this course, there are three lessons:\n",
    "\n",
    "### I. Concepts of Experiment Design\n",
    "Here you will learn about what it means to run an experiment, and how this differs from observational studies. Topics include not only what to include in an experimental design, but also what to watch out for when designing an experiment.\n",
    "\n",
    "### II. Statistical Considerations in Testing\n",
    "In this lesson, you will learn about statistical techniques and considerations used when evaluating the data collected during an experiment. It is expected that you come into the course with knowledge about inferential statistics; the content here will see you applying that knowledge in different ways.\n",
    "\n",
    "### III. A/B Testing Case Study\n",
    "Here, you will put your skills to work to analyze data related to a change on a web page designed to increase purchasers of software.\n",
    "\n",
    "At the end of these lessons, you can complete an optional **Portfolio Exercise** in coordination with our industry partner Starbucks. In the project, you will learn more about how Starbucks conducts experiments. You will also get access to data related to a hiring screen that was once conducted by Starbucks to test ideas related to experimental design and statistical metrics.\n",
    "\n",
    "## Recommendation Engines\n",
    "The **recommendation engines** portion of the course has two lessons:\n",
    "\n",
    "### I. Introduction to Recommendation Engines\n",
    "In this lesson, you will learn about the main ideas associated with recommendation engines. This includes techniques and measures of effectiveness.\n",
    "\n",
    "### II. Matrix Factorization for Recommendations\n",
    "Extending on the previous lesson, you will learn about one of the most popular techniques for recommendation engines known as FunkSVD. You will also complete a class that brings together a number of techniques to make recommendations for a number of different scenarios.\n",
    "\n",
    "## Project\n",
    "At the end of this course, you will complete a project that uses data from the IBM Watson Studio platform to make recommendations for which articles a user should engage with! Hope you are excited to get started!"
   ]
  },
  {
   "cell_type": "markdown",
   "metadata": {},
   "source": [
    "# 3. Interview: Dan [Coinbase]"
   ]
  },
  {
   "cell_type": "markdown",
   "metadata": {},
   "source": [
    "# 4. Interview: Richard [Starbucks]"
   ]
  },
  {
   "cell_type": "markdown",
   "metadata": {},
   "source": [
    "# 5. Lesson Outro"
   ]
  },
  {
   "cell_type": "code",
   "execution_count": null,
   "metadata": {},
   "outputs": [],
   "source": []
  }
 ],
 "metadata": {
  "kernelspec": {
   "display_name": "Python 3",
   "language": "python",
   "name": "python3"
  },
  "language_info": {
   "codemirror_mode": {
    "name": "ipython",
    "version": 3
   },
   "file_extension": ".py",
   "mimetype": "text/x-python",
   "name": "python",
   "nbconvert_exporter": "python",
   "pygments_lexer": "ipython3",
   "version": "3.7.6"
  }
 },
 "nbformat": 4,
 "nbformat_minor": 4
}
