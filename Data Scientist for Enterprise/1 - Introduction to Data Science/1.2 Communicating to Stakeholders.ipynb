{
 "cells": [
  {
   "cell_type": "markdown",
   "metadata": {},
   "source": [
    "# Github"
   ]
  },
  {
   "cell_type": "markdown",
   "metadata": {},
   "source": [
    "## README\n",
    "Let's take a look at some of the qualities of good README files. A good README should have:\n",
    "\n",
    "1. Installations\n",
    "\n",
    "2. Project Motivation\n",
    "\n",
    "3. File Descriptions\n",
    "\n",
    "4. How to Interact with your project\n",
    "\n",
    "5. Licensing, Authors, Acknowledgements, etc.\n",
    "\n",
    "Let's take a look at a few profiles that do this well, so you can have some model examples to follow when putting together your project profile.\n",
    "\n",
    "### Example 1: [Bootstrap](https://github.com/twbs/bootstrap)\n",
    "An example a good README is shown [here](https://github.com/twbs/bootstrap). Boostrap, as you can see from their logo, is a way to quickly build projects to deploy on the web.\n",
    "\n",
    "\n",
    "Not only does this README have all of the information of a good README file, it also provides a table of contents to quickly navigate! Depending on how long your README file is, providing a table of contents is an excellent idea for helping others navigate your documentation.\n",
    "\n",
    "### Example 2: [Scikit-Learn](https://github.com/scikit-learn/scikit-learn)\n",
    "Another example of great documentation is through the scikit-learn documentation (also known as sklearn). Though you can get all of the information from the documentation linked in the title, the community surrounding scikit-learn has added the documentation you likely find when you Google search for particular functionality.\n",
    "\n",
    "Therefore, the limited description of how to use this library in the README is due to the massive amount of information surrounding scikit-learn in other documentation. You can find an example of the documentation that walks you through using this extensive library [here](http://scikit-learn.org/stable/tutorial/basic/tutorial.html).\n",
    "\n",
    "### Example 3: [Stack Overflow Blog](https://github.com/jjrunner/stackoverflow.git)\n",
    "Now, Example 1 and 2 above aimed at assisting others with building their own websites or machine learning models using the provided code. In your case, you are showcasing your work and insights. It is still important that you provide:\n",
    "\n",
    "1. Installation - Extra libraries that are not installed with the Anaconda distribution, as well as what what version of python you are using should be noted.\n",
    "\n",
    "2. Project Motivation - Discuss what your project is about, and what interested you in pursuing the project.\n",
    "\n",
    "3. File Descriptions - Guide others through the files in your repository. You may not talk about every file here, but you should let them know where they can find the work they might find most interesting.\n",
    "\n",
    "4. How To Interact With Your Project - When your project isn't meant to be interactive or used for other projects, you should instead talk about the technical details of your project. What were your results? What did you do to improve them? What methods did you try? What worked? What didn't work?\n",
    "\n",
    "5. Licensing, Authors, Acknowledgements - You always want to give credit where necessary. Acknowledge other contributors, helpful peers, data providers, etc.\n",
    "\n",
    "You can use this to assist as a template for your own post."
   ]
  },
  {
   "cell_type": "markdown",
   "metadata": {},
   "source": [
    "## GIT Commands\n",
    "\n",
    "From this video, you saw the use of the following commands:\n",
    "\n",
    "`git clone` - clone a repository from any url to your local machine\n",
    "\n",
    "`git add *` - adds all the files of the repository to the staging area\n",
    "\n",
    "`git commit -m 'comment about changes made'` - commits changes and adds a message for changes made\n",
    "\n",
    "`git push` - pushes your changes to a remote repository"
   ]
  },
  {
   "cell_type": "markdown",
   "metadata": {},
   "source": [
    "# Medium"
   ]
  },
  {
   "cell_type": "markdown",
   "metadata": {},
   "source": [
    "## [How To Get Started on Medium?](https://blog.hubspot.com/marketing/how-to-use-medium)\n",
    "If you are brand new to Medium, this is an excellent [post](https://blog.hubspot.com/marketing/how-to-use-medium) on how to get started. It is essentially all you need to get started and take off to create your own awesome content.\n",
    "\n",
    "Additionally, this [post](https://blog.medium.com/tips-and-tricks-for-medium-writers-1d79498101c3) is useful for helping you stay motivated and keeping your readers connected. We will talk more about some of these tips in the rest of this lesson, but this is a nice post to keep close by.\n",
    "\n",
    "\n",
    "https://medium.com/\n",
    "\n",
    "### How To Attract Users?\n",
    "Throughout the rest of this lesson, I will provide some of the tips and tricks I have pieced together through conversations with insiders at Udacity and my own experiences. However, the post [here](https://medium.com/the-mission/this-new-data-will-make-you-rethink-how-you-write-headlines-751358f6639a) is also very useful as you get started putting together your own posts and are looking to attract new users.\n",
    "\n",
    "### When To Post?\n",
    "Though the plots on the post [here](https://blog.bufferapp.com/best-time-to-tweet-post-to-facebook-send-emails-publish-blogposts) are mostly terrible, there is a lot of useful information about the timing of your posts in order to attract users to your posts provided. Using other social media accounts to advertise your posts is a great way to attract more people to your post.\n",
    "\n",
    "### Medium Posts Are About Anything And Everything, Any Specific Tips For Data Story Telling?\n",
    "Some additional tips about data storytelling are provided in the post [here](https://www.analyticsvidhya.com/blog/2017/10/art-story-telling-data-science/).\n",
    "\n",
    "Looking through the posts on this page, can get you thinking about what you liked and didn't like about the posts you saw as well. Which ones were you most motivated to finish? Why do you think that was? What sentences resonated with you? What was it about the page layout that helped or hindered your understanding of the information?\n",
    "\n",
    "In general, everyone has their own style. However, there are still some best practices that can be followed. You will learn more about that throughout the rest of this lesson, but hopefully these links already have thinking about how you can start putting together your own posts!\n",
    "\n",
    "\n",
    "### Can You Make Money by Blogging on Medium?\n",
    "The simple answer to this question is \"Yes\". Here are two posts to assist you if this is a goal for you.\n",
    "\n",
    "- [Post I](https://medium.com/words-for-life/a-100-transparent-look-at-my-first-medium-paycheck-197b69483b44)\n",
    "- [Post II](https://writingcooperative.com/can-you-make-money-on-medium-90565989d599)\n",
    "\n",
    "From everything I can tell, this is likely to be more of a side hustle than a full time job for most individuals. However, it is a great way to get noticed and help you stand out from other candidates in an interview process.\n",
    "\n",
    "### Three Steps to Captivate Your Audience\n",
    "1. How to pull in a reader\n",
    "    - First thing viewers will see is image and title.\n",
    "\n",
    "\n",
    "2. How to keep reader engaged\n",
    "    - Tell a personal, relatable story first or ask questions you have a feeling your audiences also ask themselves.\n",
    "    - Tie in current events that are at the top of your audience member's minds.\n",
    "    - Broken up to three lines per idea, no more than five.\n",
    "    - [Example](https://medium.com/the-mission/this-new-data-will-make-you-rethink-how-you-write-headlines-751358f6639a)\n",
    "\n",
    "\n",
    "3. How to close your post\n",
    "    - Reiterate 3 main points related to breaking into the field\n",
    "    - Call to Action: how will you break into the field?\n",
    "    - [Example](https://medium.com/@josh_2774/how-do-you-become-a-developer-5ef1c1c68711)\n",
    "    \n",
    "### Logistics\n",
    "- Short and Sweet\n",
    "    - 1 -2 pages\n",
    "    - 200 - 500 words\n",
    "    - Less than 8 minutes\n",
    "- Create an Outline\n",
    "- Review work\n",
    "\n",
    "\n",
    "\n",
    "**EXAMPLE OF OUTLINE**\n",
    "- Introduction\n",
    "- Takeaway 1: How to break into the field?\n",
    "- Takeaway 2: How do these related to salary and job satisfaction?\n",
    "- Takeaway 3: What biases did respondents have?\n",
    "- Conclusion"
   ]
  },
  {
   "cell_type": "markdown",
   "metadata": {},
   "source": [
    "# Review\n",
    "Related to Marketing Yourself\n",
    "1. Catchy image followed by a catchy title.\n",
    "2. Write in small blocks of text, as large blocks of text will exhaust and demotivate your reader.\n",
    "3. Start with an engaging question or current event that your audience is likely thinking about.\n",
    "4. End with a recap and a call to action.\n",
    "\n",
    "\n",
    "Related to Keeping Yourself and Your Reader Motivated\n",
    "1. Keep your post short and sweet. 1-2 pages per post will increase audience engagement, as well as the likelihood you complete the writing of your post.\n",
    "2. Create an outline. A useful outline for your post could just be: introduction, each of your questions, and then a conclusion. This will help you stay focused when writing your post.\n",
    "3. Review. Review. Review. When you think you have reviewed enough, find someone else to review. The more review you have of your work, the better it will become."
   ]
  }
 ],
 "metadata": {
  "kernelspec": {
   "display_name": "Python 3",
   "language": "python",
   "name": "python3"
  },
  "language_info": {
   "codemirror_mode": {
    "name": "ipython",
    "version": 3
   },
   "file_extension": ".py",
   "mimetype": "text/x-python",
   "name": "python",
   "nbconvert_exporter": "python",
   "pygments_lexer": "ipython3",
   "version": "3.7.6"
  }
 },
 "nbformat": 4,
 "nbformat_minor": 4
}
