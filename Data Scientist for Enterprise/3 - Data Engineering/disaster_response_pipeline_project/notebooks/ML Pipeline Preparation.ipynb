{
 "cells": [
  {
   "cell_type": "markdown",
   "metadata": {},
   "source": [
    "# ML Pipeline Preparation\n",
    "Follow the instructions below to help you create your ML pipeline.\n",
    "### 1. Import libraries and load data from database.\n",
    "- Import Python libraries\n",
    "- Load dataset from database with [`read_sql_table`](https://pandas.pydata.org/pandas-docs/stable/generated/pandas.read_sql_table.html)\n",
    "- Define feature and target variables X and Y"
   ]
  },
  {
   "cell_type": "code",
   "execution_count": 1,
   "metadata": {},
   "outputs": [
    {
     "name": "stderr",
     "output_type": "stream",
     "text": [
      "/Users/kevinwebb/Desktop/env/ds/lib/python3.7/site-packages/sklearn/externals/joblib/__init__.py:15: FutureWarning: sklearn.externals.joblib is deprecated in 0.21 and will be removed in 0.23. Please import this functionality directly from joblib, which can be installed with: pip install joblib. If this warning is raised when loading pickled models, you may need to re-serialize those models with scikit-learn 0.21+.\n",
      "  warnings.warn(msg, category=FutureWarning)\n",
      "/Users/kevinwebb/Desktop/env/ds/lib/python3.7/site-packages/nltk/decorators.py:68: DeprecationWarning: `formatargspec` is deprecated since Python 3.5. Use `signature` and the `Signature` object directly\n",
      "  regargs, varargs, varkwargs, defaults, formatvalue=lambda value: \"\"\n",
      "/Users/kevinwebb/Desktop/env/ds/lib/python3.7/site-packages/nltk/lm/counter.py:15: DeprecationWarning: Using or importing the ABCs from 'collections' instead of from 'collections.abc' is deprecated since Python 3.3,and in 3.9 it will stop working\n",
      "  from collections import Sequence, defaultdict\n",
      "/Users/kevinwebb/Desktop/env/ds/lib/python3.7/site-packages/nltk/lm/vocabulary.py:13: DeprecationWarning: Using or importing the ABCs from 'collections' instead of from 'collections.abc' is deprecated since Python 3.3,and in 3.9 it will stop working\n",
      "  from collections import Counter, Iterable\n",
      "[nltk_data] Downloading package punkt to /Users/kevinwebb/nltk_data...\n",
      "[nltk_data]   Package punkt is already up-to-date!\n",
      "[nltk_data] Downloading package stopwords to\n",
      "[nltk_data]     /Users/kevinwebb/nltk_data...\n",
      "[nltk_data]   Package stopwords is already up-to-date!\n",
      "[nltk_data] Downloading package wordnet to\n",
      "[nltk_data]     /Users/kevinwebb/nltk_data...\n",
      "[nltk_data]   Package wordnet is already up-to-date!\n"
     ]
    },
    {
     "data": {
      "text/plain": [
       "True"
      ]
     },
     "execution_count": 1,
     "metadata": {},
     "output_type": "execute_result"
    }
   ],
   "source": [
    "# import libraries\n",
    "import pandas as pd\n",
    "import numpy as np\n",
    "from sqlalchemy import create_engine\n",
    "\n",
    "from sklearn.metrics import confusion_matrix\n",
    "from sklearn.model_selection import train_test_split, GridSearchCV\n",
    "from sklearn.pipeline import Pipeline\n",
    "from sklearn.ensemble import RandomForestClassifier\n",
    "from sklearn.feature_extraction.text import CountVectorizer, TfidfTransformer\n",
    "from sklearn.multioutput import MultiOutputClassifier\n",
    "from sklearn.multiclass import OneVsRestClassifier\n",
    "from sklearn.svm import LinearSVC\n",
    "from sklearn.metrics import classification_report, accuracy_score\n",
    "from sklearn.externals import joblib\n",
    "\n",
    "import re\n",
    "import nltk\n",
    "from nltk.corpus import stopwords\n",
    "from nltk.stem.wordnet import WordNetLemmatizer\n",
    "from nltk.tokenize import word_tokenize\n",
    "\n",
    "nltk.download('punkt')\n",
    "nltk.download('stopwords')\n",
    "nltk.download('wordnet')"
   ]
  },
  {
   "cell_type": "code",
   "execution_count": 2,
   "metadata": {},
   "outputs": [],
   "source": [
    "# load data from database\n",
    "engine = create_engine('sqlite:///project.db')\n",
    "df = pd.read_sql_table('project', engine)\n",
    "\n",
    "X = df.message.values\n",
    "Y = df[df.columns[4:]].values\n",
    "category_names = list(df.columns[4:])\n"
   ]
  },
  {
   "cell_type": "markdown",
   "metadata": {},
   "source": [
    "### 2. Write a tokenization function to process your text data"
   ]
  },
  {
   "cell_type": "code",
   "execution_count": 3,
   "metadata": {},
   "outputs": [],
   "source": [
    "def tokenize(text):\n",
    "    stop_words = stopwords.words(\"english\")\n",
    "    lemmatizer = WordNetLemmatizer()\n",
    "    \n",
    "    # normalize case and remove punctuation\n",
    "    text = re.sub(r\"[^a-zA-Z0-9]\", \" \", text.lower())\n",
    "    \n",
    "    # tokenize text\n",
    "    tokens = word_tokenize(text)\n",
    "    \n",
    "    # lemmatize andremove stop words\n",
    "    tokens = [lemmatizer.lemmatize(word).lower().strip() for word in tokens if word.lower().strip() not in stop_words]\n",
    "\n",
    "    return tokens"
   ]
  },
  {
   "cell_type": "markdown",
   "metadata": {},
   "source": [
    "### 3. Build a machine learning pipeline\n",
    "This machine pipeline should take in the `message` column as input and output classification results on the other 36 categories in the dataset. You may find the [MultiOutputClassifier](http://scikit-learn.org/stable/modules/generated/sklearn.multioutput.MultiOutputClassifier.html) helpful for predicting multiple target variables."
   ]
  },
  {
   "cell_type": "code",
   "execution_count": null,
   "metadata": {},
   "outputs": [],
   "source": [
    "def model_pipeline():\n",
    "    pipeline = Pipeline([\n",
    "        ('vect', CountVectorizer(tokenizer=tokenize)),\n",
    "        ('tfidf', TfidfTransformer()),\n",
    "        ('clf', MultiOutputClassifier(OneVsRestClassifier(RandomForestClassifier())))\n",
    "    ])\n",
    "\n",
    "    return pipeline\n",
    "\n",
    "pipeline = model_pipeline()"
   ]
  },
  {
   "cell_type": "markdown",
   "metadata": {},
   "source": [
    "### 4. Train pipeline\n",
    "- Split data into train and test sets\n",
    "- Train pipeline"
   ]
  },
  {
   "cell_type": "code",
   "execution_count": 5,
   "metadata": {},
   "outputs": [],
   "source": [
    "X_train, X_test, y_train, y_test = train_test_split(X, Y)"
   ]
  },
  {
   "cell_type": "code",
   "execution_count": 6,
   "metadata": {},
   "outputs": [
    {
     "name": "stderr",
     "output_type": "stream",
     "text": [
      "/opt/conda/lib/python3.6/site-packages/sklearn/multiclass.py:76: UserWarning: Label not 0.0 is present in all training examples.\n",
      "  str(classes[c]))\n"
     ]
    },
    {
     "data": {
      "text/plain": [
       "Pipeline(memory=None,\n",
       "     steps=[('vect', CountVectorizer(analyzer='word', binary=False, decode_error='strict',\n",
       "        dtype=<class 'numpy.int64'>, encoding='utf-8', input='content',\n",
       "        lowercase=True, max_df=1.0, max_features=None, min_df=1,\n",
       "        ngram_range=(1, 1), preprocessor=None, stop_words=None,\n",
       "        strip...ore=False, random_state=1, verbose=0, warm_start=False),\n",
       "          n_jobs=1),\n",
       "           n_jobs=1))])"
      ]
     },
     "execution_count": 6,
     "metadata": {},
     "output_type": "execute_result"
    }
   ],
   "source": [
    "# train classifier\n",
    "pipeline.fit(X_train, y_train)"
   ]
  },
  {
   "cell_type": "markdown",
   "metadata": {},
   "source": [
    "### 5. Test your model\n",
    "Report the f1 score, precision and recall for each output category of the dataset. You can do this by iterating through the columns and calling sklearn's `classification_report` on each."
   ]
  },
  {
   "cell_type": "code",
   "execution_count": 10,
   "metadata": {},
   "outputs": [],
   "source": [
    "y_pred = pipeline.predict(X_test)"
   ]
  },
  {
   "cell_type": "code",
   "execution_count": 11,
   "metadata": {},
   "outputs": [
    {
     "name": "stdout",
     "output_type": "stream",
     "text": [
      "                        precision    recall  f1-score   support\n",
      "\n",
      "               related       0.66      0.90      0.76      1647\n",
      "               request       0.42      0.18      0.25       847\n",
      "                 offer       0.00      0.00      0.00         2\n",
      "           aid_related       0.45      0.25      0.32       937\n",
      "          medical_help       0.00      0.00      0.00       131\n",
      "      medical_products       0.00      0.00      0.00        81\n",
      "     search_and_rescue       0.00      0.00      0.00        54\n",
      "              security       0.00      0.00      0.00        29\n",
      "              military       0.00      0.00      0.00         7\n",
      "           child_alone       0.00      0.00      0.00         0\n",
      "                 water       0.00      0.00      0.00       181\n",
      "                  food       0.22      0.02      0.03       352\n",
      "               shelter       0.06      0.00      0.01       247\n",
      "              clothing       0.00      0.00      0.00        25\n",
      "                 money       0.00      0.00      0.00        29\n",
      "        missing_people       0.00      0.00      0.00        18\n",
      "              refugees       0.00      0.00      0.00        38\n",
      "                 death       0.00      0.00      0.00        66\n",
      "             other_aid       0.22      0.02      0.04       351\n",
      "infrastructure_related       0.00      0.00      0.00        72\n",
      "             transport       0.00      0.00      0.00        46\n",
      "             buildings       0.25      0.01      0.02        93\n",
      "           electricity       0.00      0.00      0.00        19\n",
      "                 tools       0.00      0.00      0.00        11\n",
      "             hospitals       0.00      0.00      0.00        16\n",
      "                 shops       0.00      0.00      0.00         5\n",
      "           aid_centers       0.00      0.00      0.00        21\n",
      "  other_infrastructure       0.00      0.00      0.00        37\n",
      "       weather_related       0.15      0.02      0.04       378\n",
      "                floods       0.25      0.04      0.06        54\n",
      "                 storm       0.50      0.03      0.06        89\n",
      "                  fire       0.00      0.00      0.00         6\n",
      "            earthquake       0.00      0.00      0.00       215\n",
      "                  cold       0.00      0.00      0.00        17\n",
      "         other_weather       0.00      0.00      0.00        42\n",
      "         direct_report       0.36      0.13      0.19       823\n",
      "\n",
      "           avg / total       0.35      0.29      0.28      6986\n",
      "\n"
     ]
    }
   ],
   "source": [
    "print(classification_report(y_test, y_pred, target_names = category_names))"
   ]
  },
  {
   "cell_type": "markdown",
   "metadata": {},
   "source": [
    "### 6. Improve your model\n",
    "Use grid search to find better parameters. "
   ]
  },
  {
   "cell_type": "code",
   "execution_count": 19,
   "metadata": {
    "scrolled": true
   },
   "outputs": [
    {
     "name": "stdout",
     "output_type": "stream",
     "text": [
      "                        precision    recall  f1-score   support\n",
      "\n",
      "               related       0.66      0.90      0.76      1647\n",
      "               request       0.42      0.18      0.25       847\n",
      "                 offer       0.00      0.00      0.00         2\n",
      "           aid_related       0.45      0.25      0.32       937\n",
      "          medical_help       0.00      0.00      0.00       131\n",
      "      medical_products       0.00      0.00      0.00        81\n",
      "     search_and_rescue       0.00      0.00      0.00        54\n",
      "              security       0.00      0.00      0.00        29\n",
      "              military       0.00      0.00      0.00         7\n",
      "           child_alone       0.00      0.00      0.00         0\n",
      "                 water       0.00      0.00      0.00       181\n",
      "                  food       0.22      0.02      0.03       352\n",
      "               shelter       0.06      0.00      0.01       247\n",
      "              clothing       0.00      0.00      0.00        25\n",
      "                 money       0.00      0.00      0.00        29\n",
      "        missing_people       0.00      0.00      0.00        18\n",
      "              refugees       0.00      0.00      0.00        38\n",
      "                 death       0.00      0.00      0.00        66\n",
      "             other_aid       0.22      0.02      0.04       351\n",
      "infrastructure_related       0.00      0.00      0.00        72\n",
      "             transport       0.00      0.00      0.00        46\n",
      "             buildings       0.25      0.01      0.02        93\n",
      "           electricity       0.00      0.00      0.00        19\n",
      "                 tools       0.00      0.00      0.00        11\n",
      "             hospitals       0.00      0.00      0.00        16\n",
      "                 shops       0.00      0.00      0.00         5\n",
      "           aid_centers       0.00      0.00      0.00        21\n",
      "  other_infrastructure       0.00      0.00      0.00        37\n",
      "       weather_related       0.15      0.02      0.04       378\n",
      "                floods       0.25      0.04      0.06        54\n",
      "                 storm       0.50      0.03      0.06        89\n",
      "                  fire       0.00      0.00      0.00         6\n",
      "            earthquake       0.00      0.00      0.00       215\n",
      "                  cold       0.00      0.00      0.00        17\n",
      "         other_weather       0.00      0.00      0.00        42\n",
      "         direct_report       0.36      0.13      0.19       823\n",
      "\n",
      "           avg / total       0.35      0.29      0.28      6986\n",
      "\n"
     ]
    }
   ],
   "source": [
    "print(classification_report(y_test, y_pred, target_names = category_names))"
   ]
  },
  {
   "cell_type": "markdown",
   "metadata": {},
   "source": [
    "### 7. Test your model\n",
    "Show the accuracy, precision, and recall of the tuned model.  \n",
    "\n",
    "Since this project focuses on code quality, process, and  pipelines, there is no minimum performance metric needed to pass. However, make sure to fine tune your models for accuracy, precision and recall to make your project stand out - especially for your portfolio!"
   ]
  },
  {
   "cell_type": "code",
   "execution_count": 15,
   "metadata": {},
   "outputs": [],
   "source": [
    "y_pred = cv.predict(X_test)"
   ]
  },
  {
   "cell_type": "code",
   "execution_count": 18,
   "metadata": {},
   "outputs": [
    {
     "name": "stdout",
     "output_type": "stream",
     "text": [
      "                  related accuracy : 0.63\n",
      "                  request accuracy : 0.64\n",
      "                    offer accuracy : 1.00\n",
      "              aid_related accuracy : 0.61\n",
      "             medical_help accuracy : 0.95\n",
      "         medical_products accuracy : 0.97\n",
      "        search_and_rescue accuracy : 0.98\n",
      "                 security accuracy : 0.99\n",
      "                 military accuracy : 1.00\n",
      "              child_alone accuracy : 1.00\n",
      "                    water accuracy : 0.93\n",
      "                     food accuracy : 0.86\n",
      "                  shelter accuracy : 0.90\n",
      "                 clothing accuracy : 0.99\n",
      "                    money accuracy : 0.99\n",
      "           missing_people accuracy : 0.99\n",
      "                 refugees accuracy : 0.99\n",
      "                    death accuracy : 0.97\n",
      "                other_aid accuracy : 0.85\n",
      "   infrastructure_related accuracy : 0.97\n",
      "                transport accuracy : 0.98\n",
      "                buildings accuracy : 0.96\n",
      "              electricity accuracy : 0.99\n",
      "                    tools accuracy : 1.00\n",
      "                hospitals accuracy : 0.99\n",
      "                    shops accuracy : 1.00\n",
      "              aid_centers accuracy : 0.99\n",
      "     other_infrastructure accuracy : 0.99\n",
      "          weather_related accuracy : 0.83\n",
      "                   floods accuracy : 0.98\n",
      "                    storm accuracy : 0.96\n",
      "                     fire accuracy : 1.00\n",
      "               earthquake accuracy : 0.91\n",
      "                     cold accuracy : 0.99\n",
      "            other_weather accuracy : 0.98\n",
      "            direct_report accuracy : 0.64\n"
     ]
    }
   ],
   "source": [
    "for i in range(y_test.shape[1]):\n",
    "        print('%25s accuracy : %.2f' %(category_names[i], accuracy_score(y_test[:,i], y_pred[:,i])))\n",
    "        \n",
    "        "
   ]
  },
  {
   "cell_type": "code",
   "execution_count": 19,
   "metadata": {
    "scrolled": true
   },
   "outputs": [
    {
     "name": "stdout",
     "output_type": "stream",
     "text": [
      "                        precision    recall  f1-score   support\n",
      "\n",
      "               related       0.66      0.90      0.76      1647\n",
      "               request       0.42      0.18      0.25       847\n",
      "                 offer       0.00      0.00      0.00         2\n",
      "           aid_related       0.45      0.25      0.32       937\n",
      "          medical_help       0.00      0.00      0.00       131\n",
      "      medical_products       0.00      0.00      0.00        81\n",
      "     search_and_rescue       0.00      0.00      0.00        54\n",
      "              security       0.00      0.00      0.00        29\n",
      "              military       0.00      0.00      0.00         7\n",
      "           child_alone       0.00      0.00      0.00         0\n",
      "                 water       0.00      0.00      0.00       181\n",
      "                  food       0.22      0.02      0.03       352\n",
      "               shelter       0.06      0.00      0.01       247\n",
      "              clothing       0.00      0.00      0.00        25\n",
      "                 money       0.00      0.00      0.00        29\n",
      "        missing_people       0.00      0.00      0.00        18\n",
      "              refugees       0.00      0.00      0.00        38\n",
      "                 death       0.00      0.00      0.00        66\n",
      "             other_aid       0.22      0.02      0.04       351\n",
      "infrastructure_related       0.00      0.00      0.00        72\n",
      "             transport       0.00      0.00      0.00        46\n",
      "             buildings       0.25      0.01      0.02        93\n",
      "           electricity       0.00      0.00      0.00        19\n",
      "                 tools       0.00      0.00      0.00        11\n",
      "             hospitals       0.00      0.00      0.00        16\n",
      "                 shops       0.00      0.00      0.00         5\n",
      "           aid_centers       0.00      0.00      0.00        21\n",
      "  other_infrastructure       0.00      0.00      0.00        37\n",
      "       weather_related       0.15      0.02      0.04       378\n",
      "                floods       0.25      0.04      0.06        54\n",
      "                 storm       0.50      0.03      0.06        89\n",
      "                  fire       0.00      0.00      0.00         6\n",
      "            earthquake       0.00      0.00      0.00       215\n",
      "                  cold       0.00      0.00      0.00        17\n",
      "         other_weather       0.00      0.00      0.00        42\n",
      "         direct_report       0.36      0.13      0.19       823\n",
      "\n",
      "           avg / total       0.35      0.29      0.28      6986\n",
      "\n"
     ]
    }
   ],
   "source": [
    "print(classification_report(y_test, y_pred, target_names = category_names))"
   ]
  },
  {
   "cell_type": "markdown",
   "metadata": {},
   "source": [
    "### 8. Try improving your model further. Here are a few ideas:\n",
    "* try other machine learning algorithms\n",
    "* add other features besides the TF-IDF"
   ]
  },
  {
   "cell_type": "code",
   "execution_count": null,
   "metadata": {},
   "outputs": [],
   "source": []
  },
  {
   "cell_type": "markdown",
   "metadata": {},
   "source": [
    "### 9. Export your model as a pickle file"
   ]
  },
  {
   "cell_type": "code",
   "execution_count": 20,
   "metadata": {},
   "outputs": [
    {
     "data": {
      "text/plain": [
       "['classifier.pkl']"
      ]
     },
     "execution_count": 20,
     "metadata": {},
     "output_type": "execute_result"
    }
   ],
   "source": [
    "joblib.dump(cv, \"classifier.pkl\")"
   ]
  },
  {
   "cell_type": "markdown",
   "metadata": {},
   "source": [
    "### 10. Use this notebook to complete `train.py`\n",
    "Use the template file attached in the Resources folder to write a script that runs the steps above to create a database and export a model based on a new dataset specified by the user."
   ]
  }
 ],
 "metadata": {
  "kernelspec": {
   "display_name": "Python 3",
   "language": "python",
   "name": "python3"
  },
  "language_info": {
   "codemirror_mode": {
    "name": "ipython",
    "version": 3
   },
   "file_extension": ".py",
   "mimetype": "text/x-python",
   "name": "python",
   "nbconvert_exporter": "python",
   "pygments_lexer": "ipython3",
   "version": "3.7.6"
  }
 },
 "nbformat": 4,
 "nbformat_minor": 2
}
