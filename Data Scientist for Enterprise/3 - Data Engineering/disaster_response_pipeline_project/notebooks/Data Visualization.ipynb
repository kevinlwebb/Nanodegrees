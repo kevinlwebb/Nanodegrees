{
 "cells": [
  {
   "cell_type": "code",
   "execution_count": 3,
   "metadata": {},
   "outputs": [],
   "source": [
    "import pandas as pd\n",
    "import numpy as np\n",
    "from sqlalchemy import create_engine"
   ]
  },
  {
   "cell_type": "code",
   "execution_count": 4,
   "metadata": {},
   "outputs": [],
   "source": [
    "from plotly.graph_objs import Bar"
   ]
  },
  {
   "cell_type": "code",
   "execution_count": 5,
   "metadata": {},
   "outputs": [],
   "source": [
    "engine = create_engine('sqlite:///project.db')\n",
    "df = pd.read_sql_table('project', engine)"
   ]
  },
  {
   "cell_type": "code",
   "execution_count": 6,
   "metadata": {},
   "outputs": [],
   "source": [
    "# Graph 1\n",
    "\n",
    "graph_one = []   \n",
    "genre_counts = df.groupby('genre').count()['message']\n",
    "genre_names = list(genre_counts.index)\n",
    "\n",
    "graph_one.append(\n",
    "    Bar(\n",
    "        x=genre_names,\n",
    "        y=genre_counts\n",
    "    )\n",
    ")\n",
    "\n",
    "layout_one = dict(title = 'Distribution of Message Genres',\n",
    "    xaxis = dict(title = 'Genre'),\n",
    "    yaxis = dict(title = 'Count'),\n",
    ")"
   ]
  },
  {
   "cell_type": "code",
   "execution_count": 48,
   "metadata": {},
   "outputs": [
    {
     "name": "stderr",
     "output_type": "stream",
     "text": [
      "[nltk_data] Downloading package stopwords to\n",
      "[nltk_data]     /Users/kevinwebb/nltk_data...\n",
      "[nltk_data]   Package stopwords is already up-to-date!\n"
     ]
    }
   ],
   "source": [
    "# Graph 2\n",
    "\n",
    "import re\n",
    "import nltk\n",
    "nltk.download('stopwords')\n",
    "from nltk.corpus import stopwords\n",
    "\n",
    "graph_two = []  \n",
    "\n",
    "sw = stopwords.words(\"english\")\n",
    "text = df.message.str.cat(sep=' ')\n",
    "text = re.sub(r\"[^a-zA-Z0-9]\", \" \", text.lower())\n",
    "str_list = text.split(\" \")\n",
    "s = pd.Series(str_list)\n",
    "s = s[s != \"\"]\n",
    "s = s[~s.isin(sw)]\n",
    "\n",
    "genre_counts = s.value_counts()[:10].tolist()\n",
    "genre_names = s.value_counts()[:10].index.tolist()\n",
    "\n",
    "graph_two.append(\n",
    "    Bar(\n",
    "        x=genre_names,\n",
    "        y=genre_counts\n",
    "    )\n",
    ")\n",
    "\n",
    "layout_two = dict(title = 'Top 10 Common Words',\n",
    "    xaxis = dict(title = 'Words'),\n",
    "    yaxis = dict(title = 'Count'),\n",
    ")"
   ]
  },
  {
   "cell_type": "code",
   "execution_count": null,
   "metadata": {},
   "outputs": [],
   "source": [
    "figures = []\n",
    "figures.append(dict(data=graph_one, layout=layout_one))\n",
    "figures.append(dict(data=graph_two, layout=layout_two))"
   ]
  }
 ],
 "metadata": {
  "kernelspec": {
   "display_name": "Python 3",
   "language": "python",
   "name": "python3"
  },
  "language_info": {
   "codemirror_mode": {
    "name": "ipython",
    "version": 3
   },
   "file_extension": ".py",
   "mimetype": "text/x-python",
   "name": "python",
   "nbconvert_exporter": "python",
   "pygments_lexer": "ipython3",
   "version": "3.7.6"
  }
 },
 "nbformat": 4,
 "nbformat_minor": 4
}
