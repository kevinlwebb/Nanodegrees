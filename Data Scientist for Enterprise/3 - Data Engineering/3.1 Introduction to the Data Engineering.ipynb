{
 "cells": [
  {
   "cell_type": "markdown",
   "metadata": {},
   "source": [
    "# Roles of a Data Engineer\n",
    "\n",
    "## Course Roadmap\n",
    "- Data Engineering\n",
    "  - Data Pipelines\n",
    "  - ETL (Extract Transform Load) Pipelines\n",
    "- NLP Pipelines\n",
    "  - Text Processing\n",
    "  - Modeling\n",
    "- Machine Learning Pipelines\n",
    "  - Scikit-learn pipelines\n",
    "  - Feature Union\n",
    "  - Grid Search\n",
    "- Data Engineering Project\n",
    "  - Classify disaster response messages\n",
    "  - Skills: data pipelines, NLP pipelines, machine learning pipelines, supervised learning"
   ]
  },
  {
   "cell_type": "markdown",
   "metadata": {},
   "source": [
    "# Project Preview\n",
    "In this project you're going to be analyzing thousands of real messages provided by Figure 8, sent during natural disasters either via social media or directly to disaster response organizations. You'll build an ETL pipeline that processes message and category data from csv files and load them into a SQLite database, which your machine learning pipeline will then read from to create and save a multi-output supervised learning model. Then, your web app will extract data from this database to provide data visualizations and use your model to classify new messages for 36 categories.\n",
    "\n",
    "Machine learning is critical to helping different organizations understand which messages are relevant to them and which messages to prioritize. During these disasters is when they have the least capacity to filter out messages that matter, and find basic methods such as using key word searches to provide trivial results. In this course, you'll learn the skills you need in ETL pipelines, natural language processing, and machine learning pipelines to create an amazing project with real world significance."
   ]
  },
  {
   "cell_type": "code",
   "execution_count": null,
   "metadata": {},
   "outputs": [],
   "source": []
  }
 ],
 "metadata": {
  "kernelspec": {
   "display_name": "Python 3",
   "language": "python",
   "name": "python3"
  },
  "language_info": {
   "codemirror_mode": {
    "name": "ipython",
    "version": 3
   },
   "file_extension": ".py",
   "mimetype": "text/x-python",
   "name": "python",
   "nbconvert_exporter": "python",
   "pygments_lexer": "ipython3",
   "version": "3.7.4"
  }
 },
 "nbformat": 4,
 "nbformat_minor": 4
}
